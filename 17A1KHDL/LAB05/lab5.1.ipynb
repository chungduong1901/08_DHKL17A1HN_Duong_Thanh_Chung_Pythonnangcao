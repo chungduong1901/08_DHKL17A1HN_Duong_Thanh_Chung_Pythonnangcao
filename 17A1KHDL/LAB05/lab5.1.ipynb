{
 "cells": [
  {
   "cell_type": "code",
   "execution_count": 1,
   "metadata": {},
   "outputs": [
    {
     "name": "stdout",
     "output_type": "stream",
     "text": [
      "Đã in lần thứ : 1\n",
      "Đã in lần thứ : 2\n",
      "Đã in lần thứ : 3\n",
      "Đã in lần thứ : 4\n",
      "Đã in lần thứ : 5\n",
      "Đã in lần thứ : 6\n",
      "Đã in lần thứ : 7\n",
      "Đã in lần thứ : 8\n",
      "Đã in lần thứ : 9\n",
      "Đã in lần thứ : 10\n"
     ]
    }
   ],
   "source": [
    "import time \n",
    " \n",
    "class SimpleTask: \n",
    "    def run_task(self): \n",
    "        for i in range(1, 11): \n",
    "            print('Đã in lần thứ :',i) \n",
    "            time.sleep(2)  # Dừng 2 giây giữa mỗi lần in \n",
    " \n",
    "def main(): \n",
    "    task = SimpleTask()  \n",
    "    task.run_task() \n",
    " \n",
    "if __name__ == \"__main__\": \n",
    "    main() "
   ]
  }
 ],
 "metadata": {
  "kernelspec": {
   "display_name": "base",
   "language": "python",
   "name": "python3"
  },
  "language_info": {
   "codemirror_mode": {
    "name": "ipython",
    "version": 3
   },
   "file_extension": ".py",
   "mimetype": "text/x-python",
   "name": "python",
   "nbconvert_exporter": "python",
   "pygments_lexer": "ipython3",
   "version": "3.12.7"
  }
 },
 "nbformat": 4,
 "nbformat_minor": 2
}
