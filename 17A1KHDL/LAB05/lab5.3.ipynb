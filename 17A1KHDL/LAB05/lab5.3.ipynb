{
 "cells": [
  {
   "cell_type": "code",
   "execution_count": 5,
   "metadata": {},
   "outputs": [
    {
     "name": "stdout",
     "output_type": "stream",
     "text": [
      "Counter đã tăng lên: 1\n",
      "Counter đã tăng lên: 2\n",
      "Counter đã tăng lên: 3\n",
      "Counter đã tăng lên: 4\n",
      "Counter đã tăng lên: 5Counter đã tăng lên: 6\n",
      "Counter đã tăng lên: 7\n",
      "Counter đã tăng lên: 8\n",
      "\n",
      "Counter đã tăng lên: 9Counter đã tăng lên: 10\n",
      "Counter đã tăng lên: 11\n",
      "Counter đã tăng lên: 12\n",
      "\n",
      "Counter đã tăng lên: 13Counter đã tăng lên: 14\n",
      "Counter đã tăng lên: 15\n",
      "Counter đã tăng lên: 16\n",
      "\n"
     ]
    }
   ],
   "source": [
    "import threading\n",
    "import time\n",
    "counter = 0\n",
    "\n",
    "class SimpleTask: \n",
    "    def run_task(self): \n",
    "        global counter \n",
    "        for _ in range(4): \n",
    "            time.sleep(2) \n",
    "            counter += 1 \n",
    "            print(f\"Counter đã tăng lên: {counter}\") \n",
    "\n",
    "def main(): \n",
    "    # Tạo danh sách các threads\n",
    "    tasks = [threading.Thread(target=SimpleTask().run_task) for _ in range(4)] \n",
    "    for task in tasks: \n",
    "        task.start()  # Bắt đầu từng thread\n",
    "    for task in tasks: \n",
    "        task.join()  # Đợi từng thread kết thúc\n",
    "\n",
    "if __name__ == \"__main__\": \n",
    "    main()\n"
   ]
  }
 ],
 "metadata": {
  "kernelspec": {
   "display_name": "base",
   "language": "python",
   "name": "python3"
  },
  "language_info": {
   "codemirror_mode": {
    "name": "ipython",
    "version": 3
   },
   "file_extension": ".py",
   "mimetype": "text/x-python",
   "name": "python",
   "nbconvert_exporter": "python",
   "pygments_lexer": "ipython3",
   "version": "3.12.7"
  }
 },
 "nbformat": 4,
 "nbformat_minor": 2
}
