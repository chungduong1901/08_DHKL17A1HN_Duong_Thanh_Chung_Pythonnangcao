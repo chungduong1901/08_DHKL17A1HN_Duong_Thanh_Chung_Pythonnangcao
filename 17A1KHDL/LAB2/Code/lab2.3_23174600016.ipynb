{
 "cells": [
  {
   "cell_type": "code",
   "execution_count": 15,
   "metadata": {},
   "outputs": [
    {
     "data": {
      "text/plain": [
       "([94.0, 97.0, 114.0, 117.0, 117.0],\n",
       " ['Afternoon', 'Afternoon', 'Afternoon', 'Morning', 'Afternoon'])"
      ]
     },
     "execution_count": 15,
     "metadata": {},
     "output_type": "execute_result"
    }
   ],
   "source": [
    "#1. Đọc dữ liệu từ 2 tập tin efficiency.txt và shifts.txt vào 2 list là effieiency và shifts\n",
    "path_1 = 'D:/LẬP TRÌNH PYTHON NÂNG CAO/DHKL17A1HN/LAB 02/DATA/efficiency.txt'\n",
    "path_2 = 'D:/LẬP TRÌNH PYTHON NÂNG CAO/DHKL17A1HN/LAB 02/DATA/shifts.txt'\n",
    "\n",
    "efficiency = []\n",
    "with open (path_1,'r') as file:\n",
    "    for line in file:\n",
    "        efficiency .append(float(line.strip()))\n",
    "\n",
    "shifts = []\n",
    "with open (path_2,'r') as file:\n",
    "   for line in file:\n",
    "       shifts .append(line.strip())\n",
    "\n",
    "efficiency[:5], shifts [:5]"
   ]
  },
  {
   "cell_type": "code",
   "execution_count": 16,
   "metadata": {},
   "outputs": [
    {
     "data": {
      "text/plain": [
       "dtype('<U9')"
      ]
     },
     "execution_count": 16,
     "metadata": {},
     "output_type": "execute_result"
    }
   ],
   "source": [
    "#2. Tạo numpy array np_shifts từ list shifts và kiểm tra kiểu dữ liệu của np_shift\n",
    "import numpy as np \n",
    "np_shifts = np.array(shifts)\n",
    "np_shifts.dtype"
   ]
  },
  {
   "cell_type": "code",
   "execution_count": 17,
   "metadata": {},
   "outputs": [
    {
     "data": {
      "text/plain": [
       "dtype('float64')"
      ]
     },
     "execution_count": 17,
     "metadata": {},
     "output_type": "execute_result"
    }
   ],
   "source": [
    "#3. Tạo numpy array np_efficiency từ list efficiency và kiểm tra kiểu dữ liệu của np_efficiency\n",
    "np_efficiency = np.array(efficiency)\n",
    "np_efficiency.dtype"
   ]
  },
  {
   "cell_type": "code",
   "execution_count": 18,
   "metadata": {},
   "outputs": [
    {
     "data": {
      "text/plain": [
       "np.float64(96.8529411764706)"
      ]
     },
     "execution_count": 18,
     "metadata": {},
     "output_type": "execute_result"
    }
   ],
   "source": [
    "#4. Tính hiệu suất sản xuất trung bình của những nhân viên làm việc vào ca 'Morning'\n",
    "morning_mask = np_shifts == 'Morning'\n",
    "#Loc du lieu ve hieu suat ca Morning\n",
    "hieu_suat_morning = np_efficiency[morning_mask]\n",
    "#Tinh hieu suat trung binh \n",
    "hieu_suat_tb_morning = np.mean(hieu_suat_morning)\n",
    "hieu_suat_tb_morning"
   ]
  },
  {
   "cell_type": "code",
   "execution_count": 20,
   "metadata": {},
   "outputs": [
    {
     "data": {
      "text/plain": [
       "np.float64(98.93939393939394)"
      ]
     },
     "execution_count": 20,
     "metadata": {},
     "output_type": "execute_result"
    }
   ],
   "source": [
    "#5. Tính hiệu suất sản xuất trung bình của những nhân viên làm việc trong các ca khác (Không phải là 'Morning')\n",
    "no_morning = np_shifts != 'Morning'\n",
    "#Loc ra nhung nhanvien khong lam ca \"Morning\"\n",
    "hieu_suat_no_morning = np_efficiency[no_morning]\n",
    "#Tinh hieu suat trung  binh cho cac ca khong phai 'Morning'\n",
    "hieu_suat_tb_no_morning = np.mean(hieu_suat_no_morning)\n",
    "hieu_suat_tb_no_morning"
   ]
  },
  {
   "cell_type": "code",
   "execution_count": 21,
   "metadata": {},
   "outputs": [
    {
     "data": {
      "text/plain": [
       "array([('Afternoon',  94.), ('Afternoon',  97.), ('Afternoon', 114.),\n",
       "       ('Morning', 117.), ('Afternoon', 117.)],\n",
       "      dtype=[('shifts', '<U10'), ('efficiency', '<f8')])"
      ]
     },
     "execution_count": 21,
     "metadata": {},
     "output_type": "execute_result"
    }
   ],
   "source": [
    "#6. Tạo mảng dữ liệu có cấu trúc (Structure Array tự định nghĩa workers gồm 'shift' (kiểu văn bản U10) và 'efficiency' (kiểu 'float')\n",
    "dtype = [('shifts','U10'),('efficiency',float)]\n",
    "workers = np.array(list(zip(shifts,efficiency)),dtype=dtype)\n",
    "\n",
    "workers[:5]"
   ]
  },
  {
   "cell_type": "code",
   "execution_count": 22,
   "metadata": {},
   "outputs": [
    {
     "name": "stdout",
     "output_type": "stream",
     "text": [
      "[('Afternoon', 50.) ('Morning', 50.) ('Night', 50.) ('Morning', 51.)\n",
      " ('Morning', 53.) ('Morning', 54.) ('Night', 55.) ('Night', 56.)\n",
      " ('Morning', 59.) ('Night', 59.)]\n",
      "Night Afternoon\n"
     ]
    }
   ],
   "source": [
    "#7. Sắp xếp mảng workers theo efficiency, và xác định ca làm việc nào có hiệu suất cao nhất và thấp nhất\n",
    "sorted_workers = np.sort(workers, order= 'efficiency')\n",
    "\n",
    "max_hieu_suat = sorted_workers[-1]['shifts']\n",
    "min_hieu_suat = sorted_workers[0]['shifts']\n",
    "\n",
    "print(sorted_workers[:10])\n",
    "print(max_hieu_suat,min_hieu_suat)"
   ]
  }
 ],
 "metadata": {
  "kernelspec": {
   "display_name": "Python 3",
   "language": "python",
   "name": "python3"
  },
  "language_info": {
   "codemirror_mode": {
    "name": "ipython",
    "version": 3
   },
   "file_extension": ".py",
   "mimetype": "text/x-python",
   "name": "python",
   "nbconvert_exporter": "python",
   "pygments_lexer": "ipython3",
   "version": "3.11.5"
  }
 },
 "nbformat": 4,
 "nbformat_minor": 2
}
