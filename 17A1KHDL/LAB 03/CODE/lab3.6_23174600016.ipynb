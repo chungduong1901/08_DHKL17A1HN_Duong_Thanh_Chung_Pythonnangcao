{
 "cells": [
  {
   "cell_type": "code",
   "execution_count": 9,
   "metadata": {},
   "outputs": [],
   "source": [
    "import pandas as pd\n",
    "# Đọc file CSV vào DataFrame\n",
    "path_1 = 'D:/LẬP TRÌNH PYTHON NÂNG CAO/DHKL17A1HN/LAB 03/DATA/stocks1.csv' \n",
    "path_2 = 'D:/LẬP TRÌNH PYTHON NÂNG CAO/DHKL17A1HN/LAB 03/DATA/stocks2.csv' \n",
    "# Đọc dữ liệu từ hai file CSV vào DataFram\n",
    "stocks1 = pd.read_csv(path_1)\n",
    "stocks2 = pd.read_csv(path_2)\n",
    "\n",
    "stocks = pd.concat([stocks1, stocks2], ignore_index=True)"
   ]
  },
  {
   "cell_type": "code",
   "execution_count": 11,
   "metadata": {},
   "outputs": [
    {
     "name": "stdout",
     "output_type": "stream",
     "text": [
      "symbol        AAPL     AMZN      FB     GOOG    TSLA\n",
      "date                                                \n",
      "2019-03-01  174.97  1671.73  162.28  1140.99  294.79\n",
      "2019-03-04  175.85  1696.17  167.37  1147.80  285.36\n",
      "2019-03-05  175.53  1692.43  171.26  1162.03  276.54\n",
      "2019-03-06  174.52  1668.95  172.51  1157.86  276.24\n",
      "2019-03-07  172.50  1625.95  169.13  1143.30  276.59\n"
     ]
    }
   ],
   "source": [
    "# Tạo Pivot Table với date làm chỉ mục, symbol làm cột, và giá trị trung bình của 'close'\n",
    "pivot_table = pd.pivot_table(stocks, values='close', index='date', columns='symbol', aggfunc='mean')\n",
    "print(pivot_table)\n"
   ]
  },
  {
   "cell_type": "code",
   "execution_count": 12,
   "metadata": {},
   "outputs": [
    {
     "name": "stdout",
     "output_type": "stream",
     "text": [
      "symbol        AAPL     AMZN      FB     GOOG    TSLA  total_volume\n",
      "date                                                              \n",
      "2019-03-01  174.97  1671.73  162.28  1140.99  294.79     118666547\n",
      "2019-03-04  175.85  1696.17  167.37  1147.80  285.36      23776775\n",
      "2019-03-05  175.53  1692.43  171.26  1162.03  276.54      98018576\n",
      "2019-03-06  174.52  1668.95  172.51  1157.86  276.24       6605385\n",
      "2019-03-07  172.50  1625.95  169.13  1143.30  276.59      78550901\n"
     ]
    }
   ],
   "source": [
    "# Tính tổng volume giao dịch cho mỗi mã chứng khoán (symbol)\n",
    "total_volume = stocks.groupby('symbol')['volume'].sum()\n",
    "\n",
    "# Thêm cột tổng volume vào Pivot Table\n",
    "pivot_table['total_volume'] = pivot_table.columns.map(total_volume)\n",
    "print(pivot_table)\n"
   ]
  },
  {
   "cell_type": "code",
   "execution_count": null,
   "metadata": {},
   "outputs": [],
   "source": [
    "# Sắp xếp Pivot Table theo tổng volume giao dịch từ cao xuống thấp\n",
    "pivot_table_sorted = pivot_table.sort_values(by='total_volume', axis=1, ascending=False)\n",
    "print(pivot_table_sorted)"
   ]
  },
  {
   "cell_type": "code",
   "execution_count": null,
   "metadata": {},
   "outputs": [],
   "source": [
    "# Hiển thị 5 mã chứng khoán có tổng volume giao dịch cao nhất\n",
    "top_5_symbols = pivot_table_sorted.iloc[:, :5]\n",
    "print(top_5_symbols)\n"
   ]
  }
 ],
 "metadata": {
  "kernelspec": {
   "display_name": "Python 3",
   "language": "python",
   "name": "python3"
  },
  "language_info": {
   "codemirror_mode": {
    "name": "ipython",
    "version": 3
   },
   "file_extension": ".py",
   "mimetype": "text/x-python",
   "name": "python",
   "nbconvert_exporter": "python",
   "pygments_lexer": "ipython3",
   "version": "3.11.5"
  }
 },
 "nbformat": 4,
 "nbformat_minor": 2
}
