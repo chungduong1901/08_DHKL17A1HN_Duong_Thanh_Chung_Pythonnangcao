{
 "cells": [
  {
   "cell_type": "code",
   "execution_count": 2,
   "metadata": {},
   "outputs": [
    {
     "name": "stdout",
     "output_type": "stream",
     "text": [
      "5 dòng đầu tiên của DataFrame kết quả:\n",
      "       date symbol     open     high      low    close   volume  average_price\n",
      "0  01-03-19   AMZN  1655.13  1674.26  1651.00  1671.73  4974877      1663.0300\n",
      "1  04-03-19   AMZN  1685.00  1709.43  1674.36  1696.17  6167358      1691.2400\n",
      "2  05-03-19   AMZN  1702.95  1707.80  1689.01  1692.43  3681522      1698.0475\n",
      "3  06-03-19   AMZN  1695.97      NaN      NaN  1668.95  3996001      1682.4600\n",
      "4  07-03-19   AMZN  1667.37  1669.75  1620.51  1625.95  4957017      1645.8950\n"
     ]
    }
   ],
   "source": [
    "import pandas as pd\n",
    "\n",
    "# Đọc file CSV vào DataFrame\n",
    "path_1 = 'D:/LẬP TRÌNH PYTHON NÂNG CAO/DHKL17A1HN/LAB 03/DATA/stocks1.csv'  # Đường dẫn tới file stocks1.csv\n",
    "path_2 = 'D:/LẬP TRÌNH PYTHON NÂNG CAO/DHKL17A1HN/LAB 03/DATA/stocks2.csv'  # Đường dẫn tới file stocks.csv\n",
    "# Đọc dữ liệu từ hai file CSV vào DataFram\n",
    "stocks1 = pd.read_csv(path_1)\n",
    "stocks2 = pd.read_csv(path_2)\n",
    "\n",
    "# 2. Gộp stocks1 và stocks2 thành DataFrame mới tên là stocks\n",
    "stocks = pd.concat([stocks1, stocks2], ignore_index=True)\n",
    "\n",
    "# 3. Tính giá trung bình (open, high, low, close) cho mỗi ngày\n",
    "stocks['average_price'] = stocks[['open', 'high', 'low', 'close']].mean(axis=1)\n",
    "\n",
    "# 4. Hiển thị 5 dòng đầu tiên của kết quả\n",
    "print(\"5 dòng đầu tiên của DataFrame kết quả:\")\n",
    "print(stocks.head())\n"
   ]
  }
 ],
 "metadata": {
  "kernelspec": {
   "display_name": "Python 3",
   "language": "python",
   "name": "python3"
  },
  "language_info": {
   "codemirror_mode": {
    "name": "ipython",
    "version": 3
   },
   "file_extension": ".py",
   "mimetype": "text/x-python",
   "name": "python",
   "nbconvert_exporter": "python",
   "pygments_lexer": "ipython3",
   "version": "3.11.5"
  }
 },
 "nbformat": 4,
 "nbformat_minor": 2
}
