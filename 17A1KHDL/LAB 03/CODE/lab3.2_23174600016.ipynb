{
 "cells": [
  {
   "cell_type": "code",
   "execution_count": 2,
   "metadata": {},
   "outputs": [
    {
     "name": "stdout",
     "output_type": "stream",
     "text": [
      "Kiểm tra dữ liệu Null:\n",
      "date      0\n",
      "symbol    0\n",
      "open      0\n",
      "high      2\n",
      "low       2\n",
      "close     0\n",
      "volume    0\n",
      "dtype: int64\n",
      "\n",
      "Thông tin tổng quan sau khi thay thế dữ liệu Null:\n",
      "<class 'pandas.core.frame.DataFrame'>\n",
      "RangeIndex: 15 entries, 0 to 14\n",
      "Data columns (total 7 columns):\n",
      " #   Column  Non-Null Count  Dtype  \n",
      "---  ------  --------------  -----  \n",
      " 0   date    15 non-null     object \n",
      " 1   symbol  15 non-null     object \n",
      " 2   open    15 non-null     float64\n",
      " 3   high    15 non-null     float64\n",
      " 4   low     15 non-null     float64\n",
      " 5   close   15 non-null     float64\n",
      " 6   volume  15 non-null     int64  \n",
      "dtypes: float64(4), int64(1), object(2)\n",
      "memory usage: 972.0+ bytes\n",
      "None\n"
     ]
    },
    {
     "name": "stderr",
     "output_type": "stream",
     "text": [
      "C:\\Users\\Administrator\\AppData\\Local\\Temp\\ipykernel_3724\\2804887122.py:13: FutureWarning: A value is trying to be set on a copy of a DataFrame or Series through chained assignment using an inplace method.\n",
      "The behavior will change in pandas 3.0. This inplace method will never work because the intermediate object on which we are setting values always behaves as a copy.\n",
      "\n",
      "For example, when doing 'df[col].method(value, inplace=True)', try using 'df.method({col: value}, inplace=True)' or df[col] = df[col].method(value) instead, to perform the operation inplace on the original object.\n",
      "\n",
      "\n",
      "  stocks1['high'].fillna(high_mean, inplace=True)\n",
      "C:\\Users\\Administrator\\AppData\\Local\\Temp\\ipykernel_3724\\2804887122.py:17: FutureWarning: A value is trying to be set on a copy of a DataFrame or Series through chained assignment using an inplace method.\n",
      "The behavior will change in pandas 3.0. This inplace method will never work because the intermediate object on which we are setting values always behaves as a copy.\n",
      "\n",
      "For example, when doing 'df[col].method(value, inplace=True)', try using 'df.method({col: value}, inplace=True)' or df[col] = df[col].method(value) instead, to perform the operation inplace on the original object.\n",
      "\n",
      "\n",
      "  stocks1['low'].fillna(low_mean, inplace=True)  # Thay thế giá trị Null bằng trung bình\n"
     ]
    }
   ],
   "source": [
    "import pandas as pd\n",
    "\n",
    "# Đọc file CSV vào DataFrame\n",
    "path_1 = 'D:/LẬP TRÌNH PYTHON NÂNG CAO/DHKL17A1HN/LAB 03/DATA/stocks1.csv'\n",
    "stocks1 = pd.read_csv(path_1)\n",
    "\n",
    "# 1. Kiểm tra xem trong stocks1 có dữ liệu Null nào không\n",
    "print(\"Kiểm tra dữ liệu Null:\")\n",
    "print(stocks1.isnull().sum())  \n",
    "\n",
    "# 2. Thay thế dữ liệu Null ở cột 'high' bằng giá trị trung bình của cột 'high'\n",
    "high_mean = stocks1['high'].mean()  \n",
    "stocks1['high'].fillna(high_mean, inplace=True)  \n",
    "\n",
    "# 3. Thay thế dữ liệu Null ở cột 'low' bằng giá trị trung bình của cột 'low'\n",
    "low_mean = stocks1['low'].mean()  # Tính giá trị trung bình của cột 'low'\n",
    "stocks1['low'].fillna(low_mean, inplace=True)  # Thay thế giá trị Null bằng trung bình\n",
    "\n",
    "# 4. Hiển thị thông tin tổng quan để xác nhận không còn dữ liệu Null\n",
    "print(\"\\nThông tin tổng quan sau khi thay thế dữ liệu Null:\")\n",
    "print(stocks1.info())  # Kiểm tra lại thông tin tổng quan của DataFrame\n"
   ]
  }
 ],
 "metadata": {
  "kernelspec": {
   "display_name": "Python 3",
   "language": "python",
   "name": "python3"
  },
  "language_info": {
   "codemirror_mode": {
    "name": "ipython",
    "version": 3
   },
   "file_extension": ".py",
   "mimetype": "text/x-python",
   "name": "python",
   "nbconvert_exporter": "python",
   "pygments_lexer": "ipython3",
   "version": "3.11.5"
  }
 },
 "nbformat": 4,
 "nbformat_minor": 2
}
