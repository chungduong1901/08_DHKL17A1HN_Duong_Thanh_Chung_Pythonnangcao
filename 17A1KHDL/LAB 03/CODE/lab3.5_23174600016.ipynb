{
 "cells": [
  {
   "cell_type": "code",
   "execution_count": 1,
   "metadata": {},
   "outputs": [],
   "source": [
    "import pandas as pd\n",
    "# Đọc file CSV vào DataFrame\n",
    "path_1 = 'D:/LẬP TRÌNH PYTHON NÂNG CAO/DHKL17A1HN/LAB 03/DATA/stocks1.csv' \n",
    "path_2 = 'D:/LẬP TRÌNH PYTHON NÂNG CAO/DHKL17A1HN/LAB 03/DATA/stocks2.csv' \n",
    "# Đọc dữ liệu từ hai file CSV vào DataFram\n",
    "stocks1 = pd.read_csv(path_1)\n",
    "stocks2 = pd.read_csv(path_2)\n",
    "\n",
    "stocks = pd.concat([stocks1, stocks2], ignore_index=True)"
   ]
  },
  {
   "cell_type": "code",
   "execution_count": 2,
   "metadata": {},
   "outputs": [
    {
     "name": "stdout",
     "output_type": "stream",
     "text": [
      "                    open      high      low    close      volume\n",
      "date     symbol                                                 \n",
      "01-03-19 AAPL     174.28   175.150   172.89   174.97  25886167.0\n",
      "         AMZN    1655.13  1674.260  1651.00  1671.73   4974877.0\n",
      "         FB       162.60   163.132   161.69   162.28  11097770.0\n",
      "         GOOG    1124.90  1142.970  1124.75  1140.99   1450316.0\n",
      "         TSLA     306.94   307.130   291.90   294.79  22911375.0\n"
     ]
    }
   ],
   "source": [
    "# 1. Tạo MultiIndex cho DataFrame stocks bằng cách sử dụng cột 'date' và 'symbol' làm chỉ mục\n",
    "stocks.set_index(['date', 'symbol'], inplace=True)\n",
    "\n",
    "# 2. Sử dụng GroupBy để tính giá trung bình (open, high, low, close) và volume trung bình cho mỗi ngày, mỗi mã chứng khoán\n",
    "avg_stocks = stocks.groupby(['date', 'symbol']).agg({\n",
    "    'open': 'mean',\n",
    "    'high': 'mean',\n",
    "    'low': 'mean',\n",
    "    'close': 'mean',\n",
    "    'volume': 'mean'\n",
    "})\n",
    "\n",
    "# 3. Sắp xếp dữ liệu theo ngày và mã chứng khoán\n",
    "avg_stocks.sort_index(inplace=True)\n",
    "\n",
    "# 4. Hiển thị kết quả cho 5 ngày đầu tiên\n",
    "print(avg_stocks.head(5))"
   ]
  }
 ],
 "metadata": {
  "kernelspec": {
   "display_name": "Python 3",
   "language": "python",
   "name": "python3"
  },
  "language_info": {
   "codemirror_mode": {
    "name": "ipython",
    "version": 3
   },
   "file_extension": ".py",
   "mimetype": "text/x-python",
   "name": "python",
   "nbconvert_exporter": "python",
   "pygments_lexer": "ipython3",
   "version": "3.11.5"
  }
 },
 "nbformat": 4,
 "nbformat_minor": 2
}
