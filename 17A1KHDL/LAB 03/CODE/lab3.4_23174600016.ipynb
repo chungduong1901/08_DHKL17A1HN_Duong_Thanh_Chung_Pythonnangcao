{
 "cells": [
  {
   "cell_type": "code",
   "execution_count": 1,
   "metadata": {},
   "outputs": [],
   "source": [
    "import pandas as pd\n",
    "# Đọc file CSV vào DataFrame\n",
    "path_1 = 'D:/LẬP TRÌNH PYTHON NÂNG CAO/DHKL17A1HN/LAB 03/DATA/stocks1.csv' \n",
    "path_2 = 'D:/LẬP TRÌNH PYTHON NÂNG CAO/DHKL17A1HN/LAB 03/DATA/stocks2.csv' \n",
    "# Đọc dữ liệu từ hai file CSV vào DataFram\n",
    "stocks1 = pd.read_csv(path_1)\n",
    "stocks2 = pd.read_csv(path_2)\n",
    "\n",
    "# 2. Gộp stocks1 và stocks2 thành DataFrame mới tên là stocks\n",
    "stocks = pd.concat([stocks1, stocks2], ignore_index=True)"
   ]
  },
  {
   "cell_type": "code",
   "execution_count": 3,
   "metadata": {},
   "outputs": [
    {
     "name": "stdout",
     "output_type": "stream",
     "text": [
      "5 dòng đầu tiên của companies:\n",
      "   name  employees headquarters_city headquarters_state\n",
      "0  AMZN     613300           Seattle                 WA\n",
      "1  GOOG      98771     Mountain View                 CA\n",
      "2  AAPL     132000         Cupertino                 CA\n",
      "3    FB      48268        Menlo Park                 CA\n",
      "4  TSLA      48016         Palo Alto                 CA\n",
      "\n",
      "Giá đóng cửa trung bình cho mỗi công ty (5 công ty đầu tiên):\n",
      "name\n",
      "AAPL     174.674\n",
      "AMZN    1671.046\n",
      "FB       168.510\n",
      "GOOG    1150.396\n",
      "TSLA     281.904\n",
      "Name: close, dtype: float64\n"
     ]
    }
   ],
   "source": [
    "# Đọc file CSV vào DataFrame companies\n",
    "path_companies = 'D:/LẬP TRÌNH PYTHON NÂNG CAO/DHKL17A1HN/LAB 03/DATA/companies.csv'  # Đường dẫn tới file companies.csv\n",
    "companies = pd.read_csv(path_companies)\n",
    "\n",
    "# Hiển thị 5 dòng đầu tiên của DataFrame companies\n",
    "print(\"5 dòng đầu tiên của companies:\")\n",
    "print(companies.head())\n",
    "\n",
    "# Kết hợp stocks (đã tạo từ bài 3) và companies dựa trên cột chung là symbol\n",
    "# Giả sử stocks đã được tạo từ trước và có cột 'symbol'\n",
    "merged_data = pd.merge(stocks, companies, left_on='symbol', right_on='name')\n",
    "\n",
    "# Tính giá đóng cửa (close) trung bình cho mỗi công ty\n",
    "avg_close_per_company = merged_data.groupby('name')['close'].mean()\n",
    "\n",
    "# Hiển thị kết quả cho 5 công ty đầu tiên\n",
    "print(\"\\nGiá đóng cửa trung bình cho mỗi công ty (5 công ty đầu tiên):\")\n",
    "print(avg_close_per_company.head())"
   ]
  }
 ],
 "metadata": {
  "kernelspec": {
   "display_name": "Python 3",
   "language": "python",
   "name": "python3"
  },
  "language_info": {
   "codemirror_mode": {
    "name": "ipython",
    "version": 3
   },
   "file_extension": ".py",
   "mimetype": "text/x-python",
   "name": "python",
   "nbconvert_exporter": "python",
   "pygments_lexer": "ipython3",
   "version": "3.11.5"
  }
 },
 "nbformat": 4,
 "nbformat_minor": 2
}
